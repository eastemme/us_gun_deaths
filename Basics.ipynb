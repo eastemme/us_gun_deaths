{
 "cells": [
  {
   "cell_type": "markdown",
   "metadata": {},
   "source": [
    "## US Gun Deaths from 2012-2014\n"
   ]
  },
  {
   "cell_type": "code",
   "execution_count": 1,
   "metadata": {
    "collapsed": false
   },
   "outputs": [
    {
     "name": "stdout",
     "output_type": "stream",
     "text": [
      "[['1', '2012', '01', 'Suicide', '0', 'M', '34', 'Asian/Pacific Islander', '100', 'Home', '4'], ['2', '2012', '01', 'Suicide', '0', 'F', '21', 'White', '100', 'Street', '3'], ['3', '2012', '01', 'Suicide', '0', 'M', '60', 'White', '100', 'Other specified', '4'], ['4', '2012', '02', 'Suicide', '0', 'M', '64', 'White', '100', 'Home', '4'], ['5', '2012', '02', 'Suicide', '0', 'M', '31', 'White', '100', 'Other specified', '2']]\n"
     ]
    }
   ],
   "source": [
    "# Import file. Convert to list of lists.\n",
    "import csv\n",
    "f = open(\"guns.csv\", 'r')\n",
    "csvreader = csv.reader(f)\n",
    "data = list(csvreader)\n",
    "data = data[1:]\n",
    "\n",
    "print(data[:5])"
   ]
  },
  {
   "cell_type": "markdown",
   "metadata": {},
   "source": [
    "## Gun deaths per year"
   ]
  },
  {
   "cell_type": "markdown",
   "metadata": {},
   "source": [
    "The number of gun deaths per year is shockingly steady."
   ]
  },
  {
   "cell_type": "code",
   "execution_count": 2,
   "metadata": {
    "collapsed": false
   },
   "outputs": [
    {
     "data": {
      "text/plain": [
       "{'2012': 33563, '2013': 33636, '2014': 33599}"
      ]
     },
     "execution_count": 2,
     "metadata": {},
     "output_type": "execute_result"
    }
   ],
   "source": [
    "years = [row[1] for row in data]\n",
    "year_counts = {}\n",
    "\n",
    "for year in years:\n",
    "    if year not in year_counts:\n",
    "        year_counts[year] = 0\n",
    "    year_counts[year] += 1\n",
    "    \n",
    "year_counts"
   ]
  },
  {
   "cell_type": "markdown",
   "metadata": {},
   "source": [
    "## Gun deaths per month"
   ]
  },
  {
   "cell_type": "code",
   "execution_count": 3,
   "metadata": {
    "collapsed": false
   },
   "outputs": [
    {
     "data": {
      "text/plain": [
       "{'01': 8273,\n",
       " '02': 7093,\n",
       " '03': 8289,\n",
       " '04': 8455,\n",
       " '05': 8669,\n",
       " '06': 8677,\n",
       " '07': 8989,\n",
       " '08': 8783,\n",
       " '09': 8508,\n",
       " '10': 8406,\n",
       " '11': 8243,\n",
       " '12': 8413}"
      ]
     },
     "execution_count": 3,
     "metadata": {},
     "output_type": "execute_result"
    }
   ],
   "source": [
    "months = [row[2] for row in data]\n",
    "month_counts = {}\n",
    "\n",
    "for month in months:\n",
    "    if month not in month_counts:\n",
    "        month_counts[month] = 0\n",
    "    month_counts[month] += 1\n",
    "    \n",
    "month_counts"
   ]
  },
  {
   "cell_type": "markdown",
   "metadata": {},
   "source": [
    "## Gun deaths by month and year"
   ]
  },
  {
   "cell_type": "code",
   "execution_count": 4,
   "metadata": {
    "collapsed": false
   },
   "outputs": [
    {
     "name": "stdout",
     "output_type": "stream",
     "text": [
      "[datetime.datetime(2012, 1, 1, 0, 0), datetime.datetime(2012, 1, 1, 0, 0), datetime.datetime(2012, 1, 1, 0, 0), datetime.datetime(2012, 2, 1, 0, 0), datetime.datetime(2012, 2, 1, 0, 0)]\n"
     ]
    }
   ],
   "source": [
    "import datetime\n",
    "dates = []\n",
    "\n",
    "for row in data:\n",
    "    year = int(row[1])\n",
    "    month = int(row[2])\n",
    "    shooting_date = datetime.datetime(year = year, month = month, day = 1)\n",
    "    dates.append(shooting_date)\n",
    "\n",
    "print(dates[:5])"
   ]
  },
  {
   "cell_type": "code",
   "execution_count": 5,
   "metadata": {
    "collapsed": false
   },
   "outputs": [
    {
     "data": {
      "text/plain": [
       "{datetime.datetime(2012, 1, 1, 0, 0): 2758,\n",
       " datetime.datetime(2012, 2, 1, 0, 0): 2357,\n",
       " datetime.datetime(2012, 3, 1, 0, 0): 2743,\n",
       " datetime.datetime(2012, 4, 1, 0, 0): 2795,\n",
       " datetime.datetime(2012, 5, 1, 0, 0): 2999,\n",
       " datetime.datetime(2012, 6, 1, 0, 0): 2826,\n",
       " datetime.datetime(2012, 7, 1, 0, 0): 3026,\n",
       " datetime.datetime(2012, 8, 1, 0, 0): 2954,\n",
       " datetime.datetime(2012, 9, 1, 0, 0): 2852,\n",
       " datetime.datetime(2012, 10, 1, 0, 0): 2733,\n",
       " datetime.datetime(2012, 11, 1, 0, 0): 2729,\n",
       " datetime.datetime(2012, 12, 1, 0, 0): 2791,\n",
       " datetime.datetime(2013, 1, 1, 0, 0): 2864,\n",
       " datetime.datetime(2013, 2, 1, 0, 0): 2375,\n",
       " datetime.datetime(2013, 3, 1, 0, 0): 2862,\n",
       " datetime.datetime(2013, 4, 1, 0, 0): 2798,\n",
       " datetime.datetime(2013, 5, 1, 0, 0): 2806,\n",
       " datetime.datetime(2013, 6, 1, 0, 0): 2920,\n",
       " datetime.datetime(2013, 7, 1, 0, 0): 3079,\n",
       " datetime.datetime(2013, 8, 1, 0, 0): 2859,\n",
       " datetime.datetime(2013, 9, 1, 0, 0): 2742,\n",
       " datetime.datetime(2013, 10, 1, 0, 0): 2808,\n",
       " datetime.datetime(2013, 11, 1, 0, 0): 2758,\n",
       " datetime.datetime(2013, 12, 1, 0, 0): 2765,\n",
       " datetime.datetime(2014, 1, 1, 0, 0): 2651,\n",
       " datetime.datetime(2014, 2, 1, 0, 0): 2361,\n",
       " datetime.datetime(2014, 3, 1, 0, 0): 2684,\n",
       " datetime.datetime(2014, 4, 1, 0, 0): 2862,\n",
       " datetime.datetime(2014, 5, 1, 0, 0): 2864,\n",
       " datetime.datetime(2014, 6, 1, 0, 0): 2931,\n",
       " datetime.datetime(2014, 7, 1, 0, 0): 2884,\n",
       " datetime.datetime(2014, 8, 1, 0, 0): 2970,\n",
       " datetime.datetime(2014, 9, 1, 0, 0): 2914,\n",
       " datetime.datetime(2014, 10, 1, 0, 0): 2865,\n",
       " datetime.datetime(2014, 11, 1, 0, 0): 2756,\n",
       " datetime.datetime(2014, 12, 1, 0, 0): 2857}"
      ]
     },
     "execution_count": 5,
     "metadata": {},
     "output_type": "execute_result"
    }
   ],
   "source": [
    "date_counts = {}\n",
    "\n",
    "for date in dates:\n",
    "    if date not in date_counts:\n",
    "        date_counts[date] = 0\n",
    "    date_counts[date] += 1\n",
    "    \n",
    "date_counts"
   ]
  },
  {
   "cell_type": "markdown",
   "metadata": {},
   "source": [
    "It's hard to tell how these vary based on this output. A visualization is needed to understand these results."
   ]
  },
  {
   "cell_type": "markdown",
   "metadata": {
    "collapsed": true
   },
   "source": [
    "## Deaths by sex"
   ]
  },
  {
   "cell_type": "code",
   "execution_count": 6,
   "metadata": {
    "collapsed": false
   },
   "outputs": [
    {
     "data": {
      "text/plain": [
       "{'F': 14449, 'M': 86349}"
      ]
     },
     "execution_count": 6,
     "metadata": {},
     "output_type": "execute_result"
    }
   ],
   "source": [
    "sexes = [row[5] for row in data]\n",
    "sex_counts = {}\n",
    "\n",
    "for sex in sexes:    \n",
    "    if sex not in sex_counts:\n",
    "        sex_counts[sex] = 0\n",
    "    sex_counts[sex] += 1\n",
    "\n",
    "sex_counts"
   ]
  },
  {
   "cell_type": "markdown",
   "metadata": {},
   "source": [
    "## Deaths by race"
   ]
  },
  {
   "cell_type": "code",
   "execution_count": 7,
   "metadata": {
    "collapsed": false
   },
   "outputs": [
    {
     "data": {
      "text/plain": [
       "{'Asian/Pacific Islander': 1326,\n",
       " 'Black': 23296,\n",
       " 'Hispanic': 9022,\n",
       " 'Native American/Native Alaskan': 917,\n",
       " 'White': 66237}"
      ]
     },
     "execution_count": 7,
     "metadata": {},
     "output_type": "execute_result"
    }
   ],
   "source": [
    "races = [row[7] for row in data]\n",
    "race_counts = {}\n",
    "\n",
    "for race in races:\n",
    "    if race not in race_counts:\n",
    "        race_counts[race] = 0\n",
    "    race_counts[race] += 1\n",
    "    \n",
    "race_counts"
   ]
  },
  {
   "cell_type": "markdown",
   "metadata": {},
   "source": [
    "### US census data\n",
    "To understand the significance of the race breakdown, we need understand it as a percentage of the total number of people in the US of each race. The total number of people of each race can be taken from US census data."
   ]
  },
  {
   "cell_type": "code",
   "execution_count": 8,
   "metadata": {
    "collapsed": false
   },
   "outputs": [
    {
     "data": {
      "text/plain": [
       "[['Id',\n",
       "  'Year',\n",
       "  'Id',\n",
       "  'Sex',\n",
       "  'Id',\n",
       "  'Hispanic Origin',\n",
       "  'Id',\n",
       "  'Id2',\n",
       "  'Geography',\n",
       "  'Total',\n",
       "  'Race Alone - White',\n",
       "  'Race Alone - Hispanic',\n",
       "  'Race Alone - Black or African American',\n",
       "  'Race Alone - American Indian and Alaska Native',\n",
       "  'Race Alone - Asian',\n",
       "  'Race Alone - Native Hawaiian and Other Pacific Islander',\n",
       "  'Two or More Races'],\n",
       " ['cen42010',\n",
       "  'April 1, 2010 Census',\n",
       "  'totsex',\n",
       "  'Both Sexes',\n",
       "  'tothisp',\n",
       "  'Total',\n",
       "  '0100000US',\n",
       "  '',\n",
       "  'United States',\n",
       "  '308745538',\n",
       "  '197318956',\n",
       "  '44618105',\n",
       "  '40250635',\n",
       "  '3739506',\n",
       "  '15159516',\n",
       "  '674625',\n",
       "  '6984195']]"
      ]
     },
     "execution_count": 8,
     "metadata": {},
     "output_type": "execute_result"
    }
   ],
   "source": [
    "f = open('census.csv', 'r')\n",
    "csvreader = csv.reader(f)\n",
    "census = list(csvreader)\n",
    "\n",
    "census"
   ]
  },
  {
   "cell_type": "markdown",
   "metadata": {},
   "source": [
    "### Gun deaths by race per 100,000 people"
   ]
  },
  {
   "cell_type": "code",
   "execution_count": 32,
   "metadata": {
    "collapsed": false
   },
   "outputs": [
    {
     "data": {
      "text/plain": [
       "{'Asian/Pacific Islander': 8.374309664161762,\n",
       " 'Black': 57.8773477735196,\n",
       " 'Hispanic': 20.220491210910907,\n",
       " 'Native American/Native Alaskan': 24.521955573811088,\n",
       " 'White': 33.56849303419181}"
      ]
     },
     "execution_count": 32,
     "metadata": {},
     "output_type": "execute_result"
    }
   ],
   "source": [
    "mapping = {\n",
    "    'Asian/Pacific Islander': 15159516+674625, \n",
    "    'Black': 40250635, \n",
    "    'Hispanic': 44618105, \n",
    "    'Native American/Native Alaskan': 3739506, \n",
    "    'White': 197318956\n",
    "}\n",
    "\n",
    "race_per_hundredk = {}\n",
    "for k,v in race_counts.items():\n",
    "    race_per_hundredk[k] = (v / mapping[k]) * 100000\n",
    "\n",
    "race_per_hundredk"
   ]
  },
  {
   "cell_type": "markdown",
   "metadata": {},
   "source": [
    "### Homicides by race per 100,000 people"
   ]
  },
  {
   "cell_type": "code",
   "execution_count": 45,
   "metadata": {
    "collapsed": false
   },
   "outputs": [
    {
     "data": {
      "text/plain": [
       "{'Asian/Pacific Islander': 3.530346230970155,\n",
       " 'Black': 48.471284987180944,\n",
       " 'Hispanic': 12.627161104219914,\n",
       " 'Native American/Native Alaskan': 8.717729026240365,\n",
       " 'White': 4.6356417981453335}"
      ]
     },
     "execution_count": 45,
     "metadata": {},
     "output_type": "execute_result"
    }
   ],
   "source": [
    "intents = [row[3] for row in data]\n",
    "homicide_race_counts = {}\n",
    "\n",
    "for i,race in enumerate(races):\n",
    "    if race not in homicide_race_counts:\n",
    "        homicide_race_counts[race] = 0\n",
    "    if intents[i] == 'Homicide':\n",
    "        homicide_race_counts[race] += 1\n",
    "        \n",
    "race_per_hundredk = {}        \n",
    "for k,v in homicide_race_counts.items():\n",
    "    race_per_hundredk[k] = (v / mapping[k]) * 100000\n",
    "\n",
    "race_per_hundredk"
   ]
  },
  {
   "cell_type": "markdown",
   "metadata": {},
   "source": [
    "## Findings\n",
    "Some points of note in these data:\n",
    "\n",
    "* Gun death totals each year are shockingly similar.\n",
    "* Gun deaths ramp up in the summer months and take a huge dip in February.\n",
    "* Gun deaths for men are 6x that of gun deaths for women.\n",
    "* Gun deaths per 100k is extremely low within the Asian population and extremely high within the black population compared to the other races.\n",
    "* The race gap widens for homicide, with Blacks being significantly more likely to be murdered then any other race. "
   ]
  },
  {
   "cell_type": "code",
   "execution_count": null,
   "metadata": {
    "collapsed": true
   },
   "outputs": [],
   "source": []
  }
 ],
 "metadata": {
  "kernelspec": {
   "display_name": "Python 3",
   "language": "python",
   "name": "python3"
  },
  "language_info": {
   "codemirror_mode": {
    "name": "ipython",
    "version": 3
   },
   "file_extension": ".py",
   "mimetype": "text/x-python",
   "name": "python",
   "nbconvert_exporter": "python",
   "pygments_lexer": "ipython3",
   "version": "3.4.3"
  }
 },
 "nbformat": 4,
 "nbformat_minor": 0
}
